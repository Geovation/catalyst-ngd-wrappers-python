{
 "cells": [
  {
   "cell_type": "code",
   "execution_count": 13,
   "id": "24b9e269",
   "metadata": {},
   "outputs": [],
   "source": [
    "from ngd_api_wrappers import *\n",
    "import shapely as shp"
   ]
  },
  {
   "cell_type": "code",
   "execution_count": 12,
   "id": "eae7e7d5",
   "metadata": {},
   "outputs": [
    {
     "data": {
      "text/plain": [
       "{'code': 401,\n",
       " 'description': 'Missing or unsupported API key provided.',\n",
       " 'errorSource': 'OS NGD API'}"
      ]
     },
     "execution_count": 12,
     "metadata": {},
     "output_type": "execute_result"
    }
   ],
   "source": [
    "KEY = 'YM57GQW4eAaABqG2Vz3fhALu7Knu8f4D'\n",
    "wkt = \"\"\"\n",
    "GEOMETRYCOLLECTION(\n",
    "    MULTIPOLYGON(\n",
    "        ((558288 104518, 558288 104528, 558298 104528, 558298 104518, 558288 104518)),\n",
    "        ((558388 104318, 558388 104328, 558398 104328, 558398 104318, 558388 104318))\n",
    "    ),\n",
    "    LINESTRING(\n",
    "        558288 104518, 558298 104528, 558398 104328, 558398 104318\n",
    "    )\n",
    ")\"\"\"\n",
    "items_limit_geom_col(\n",
    "    params = {\n",
    "        'filter-crs': 27700,\n",
    "        'crs': '3857',\n",
    "        'limit': 213#,\n",
    "        #'key': KEY\n",
    "    },\n",
    "    wkt = wkt,\n",
    "    authenticate = False,\n",
    "    hierarchical_output = True,\n",
    "    use_latest_collection = True,\n",
    "    collection = [\n",
    "        'lnd-fts-land',\n",
    "        'bld-fts-building',\n",
    "        'wtr-fts-water',\n",
    "    ],\n",
    "        headers = {\n",
    "        'erroneous-header': 'should-be-ignored'\n",
    "    },\n",
    ")"
   ]
  },
  {
   "cell_type": "code",
   "execution_count": 15,
   "id": "d47c007d",
   "metadata": {},
   "outputs": [
    {
     "ename": "TypeError",
     "evalue": "Session.request() got an unexpected keyword argument 'access_token'",
     "output_type": "error",
     "traceback": [
      "\u001b[31m---------------------------------------------------------------------------\u001b[39m",
      "\u001b[31mTypeError\u001b[39m                                 Traceback (most recent call last)",
      "\u001b[36mCell\u001b[39m\u001b[36m \u001b[39m\u001b[32mIn[15]\u001b[39m\u001b[32m, line 12\u001b[39m\n\u001b[32m      1\u001b[39m KEY = \u001b[33m'\u001b[39m\u001b[33mYM57GQW4eAaABqG2Vz3fhALu7Knu8f4D\u001b[39m\u001b[33m'\u001b[39m\n\u001b[32m      2\u001b[39m wkt = \u001b[33m\"\"\"\u001b[39m\n\u001b[32m      3\u001b[39m \u001b[33mGEOMETRYCOLLECTION(\u001b[39m\n\u001b[32m      4\u001b[39m \u001b[33m    MULTIPOLYGON(\u001b[39m\n\u001b[32m   (...)\u001b[39m\u001b[32m     10\u001b[39m \u001b[33m    )\u001b[39m\n\u001b[32m     11\u001b[39m \u001b[33m)\u001b[39m\u001b[33m\"\"\"\u001b[39m\n\u001b[32m---> \u001b[39m\u001b[32m12\u001b[39m \u001b[43mitems\u001b[49m\u001b[43m(\u001b[49m\n\u001b[32m     13\u001b[39m \u001b[43m    \u001b[49m\u001b[43mcollection\u001b[49m\u001b[43m \u001b[49m\u001b[43m=\u001b[49m\u001b[43m \u001b[49m\u001b[33;43m'\u001b[39;49m\u001b[33;43mbld-fts-building\u001b[39;49m\u001b[33;43m'\u001b[39;49m\u001b[43m,\u001b[49m\n\u001b[32m     14\u001b[39m \u001b[43m    \u001b[49m\u001b[43mparams\u001b[49m\u001b[43m \u001b[49m\u001b[43m=\u001b[49m\u001b[43m \u001b[49m\u001b[43m{\u001b[49m\n\u001b[32m     15\u001b[39m \u001b[43m        \u001b[49m\u001b[38;5;66;43;03m#'filter-crs': 27700,\u001b[39;49;00m\n\u001b[32m     16\u001b[39m \u001b[43m        \u001b[49m\u001b[33;43m'\u001b[39;49m\u001b[33;43mfilter\u001b[39;49m\u001b[33;43m'\u001b[39;49m\u001b[43m:\u001b[49m\u001b[43m \u001b[49m\u001b[33;43m\"\u001b[39;49m\u001b[33;43mconstructionmaterial IN (\u001b[39;49m\u001b[33;43m'\u001b[39;49m\u001b[33;43mMixed (Masonry And Metal)\u001b[39;49m\u001b[33;43m'\u001b[39;49m\u001b[33;43m,\u001b[39;49m\u001b[33;43m'\u001b[39;49m\u001b[33;43mBrick Or Block Or Stone\u001b[39;49m\u001b[33;43m'\u001b[39;49m\u001b[33;43m)\u001b[39;49m\u001b[33;43m\"\u001b[39;49m\u001b[43m,\u001b[49m\n\u001b[32m     17\u001b[39m \u001b[43m        \u001b[49m\u001b[33;43m'\u001b[39;49m\u001b[33;43mcrs\u001b[39;49m\u001b[33;43m'\u001b[39;49m\u001b[43m:\u001b[49m\u001b[43m \u001b[49m\u001b[32;43m27700\u001b[39;49m\u001b[43m,\u001b[49m\n\u001b[32m     18\u001b[39m \u001b[43m        \u001b[49m\u001b[33;43m'\u001b[39;49m\u001b[33;43mdatetime\u001b[39;49m\u001b[33;43m'\u001b[39;49m\u001b[43m:\u001b[49m\u001b[43m \u001b[49m\u001b[33;43m'\u001b[39;49m\u001b[33;43m2025-03-13T00:00:00Z/..\u001b[39;49m\u001b[33;43m'\u001b[39;49m\n\u001b[32m     19\u001b[39m \u001b[43m    \u001b[49m\u001b[43m}\u001b[49m\u001b[43m,\u001b[49m\n\u001b[32m     20\u001b[39m \u001b[43m    \u001b[49m\u001b[43mfilter_params\u001b[49m\u001b[43m \u001b[49m\u001b[43m=\u001b[49m\u001b[43m \u001b[49m\u001b[43m{\u001b[49m\n\u001b[32m     21\u001b[39m \u001b[43m        \u001b[49m\u001b[33;43m'\u001b[39;49m\u001b[33;43mdescription\u001b[39;49m\u001b[33;43m'\u001b[39;49m\u001b[43m:\u001b[49m\u001b[33;43m'\u001b[39;49m\u001b[33;43mGas Distribution Or Storage Facility\u001b[39;49m\u001b[33;43m'\u001b[39;49m\u001b[43m,\u001b[49m\n\u001b[32m     22\u001b[39m \u001b[43m        \u001b[49m\u001b[33;43m'\u001b[39;49m\u001b[33;43mbuildinguse\u001b[39;49m\u001b[33;43m'\u001b[39;49m\u001b[43m:\u001b[49m\u001b[33;43m'\u001b[39;49m\u001b[33;43mUtility Or Environmental Protection\u001b[39;49m\u001b[33;43m'\u001b[39;49m\u001b[43m,\u001b[49m\n\u001b[32m     23\u001b[39m \u001b[43m        \u001b[49m\u001b[33;43m'\u001b[39;49m\u001b[33;43mconstructionmaterial\u001b[39;49m\u001b[33;43m'\u001b[39;49m\u001b[43m:\u001b[49m\u001b[33;43m'\u001b[39;49m\u001b[33;43mBrick Or Block Or Stone\u001b[39;49m\u001b[33;43m'\u001b[39;49m\n\u001b[32m     24\u001b[39m \u001b[43m    \u001b[49m\u001b[43m}\u001b[49m\u001b[43m,\u001b[49m\n\u001b[32m     25\u001b[39m \u001b[43m    \u001b[49m\u001b[43muse_latest_collection\u001b[49m\u001b[43m \u001b[49m\u001b[43m=\u001b[49m\u001b[43m \u001b[49m\u001b[38;5;28;43;01mTrue\u001b[39;49;00m\u001b[43m,\u001b[49m\n\u001b[32m     26\u001b[39m \u001b[43m        \u001b[49m\u001b[43mheaders\u001b[49m\u001b[43m \u001b[49m\u001b[43m=\u001b[49m\u001b[43m \u001b[49m\u001b[43m{\u001b[49m\n\u001b[32m     27\u001b[39m \u001b[43m        \u001b[49m\u001b[33;43m'\u001b[39;49m\u001b[33;43merroneous-header\u001b[39;49m\u001b[33;43m'\u001b[39;49m\u001b[43m:\u001b[49m\u001b[43m \u001b[49m\u001b[33;43m'\u001b[39;49m\u001b[33;43mshould-be-ignored\u001b[39;49m\u001b[33;43m'\u001b[39;49m\n\u001b[32m     28\u001b[39m \u001b[43m    \u001b[49m\u001b[43m}\u001b[49m\u001b[43m,\u001b[49m\n\u001b[32m     29\u001b[39m \u001b[43m    \u001b[49m\u001b[43maccess_token\u001b[49m\u001b[43m \u001b[49m\u001b[43m=\u001b[49m\u001b[43m \u001b[49m\u001b[33;43m'\u001b[39;49m\u001b[33;43mhgj\u001b[39;49m\u001b[33;43m'\u001b[39;49m\n\u001b[32m     30\u001b[39m \u001b[43m)\u001b[49m\n",
      "\u001b[36mFile \u001b[39m\u001b[32m~/Documents/CatalyST/catalyst-ngd-wrappers-python/src/catalyst_ngd_wrappers/ngd_api_wrappers.py:317\u001b[39m, in \u001b[36mngd_items_request\u001b[39m\u001b[34m(collection, params, headers, use_latest_collection, authenticate, log_request_details, wkt, filter_params, **kwargs)\u001b[39m\n\u001b[32m    312\u001b[39m url = \u001b[33mf\u001b[39m\u001b[33m'\u001b[39m\u001b[33mhttps://api.os.uk/features/ngd/ofa/v1/collections/\u001b[39m\u001b[38;5;132;01m{\u001b[39;00mcollection\u001b[38;5;132;01m}\u001b[39;00m\u001b[33m/items/\u001b[39m\u001b[33m'\u001b[39m\n\u001b[32m    314\u001b[39m request_func = oauth2_authentication(\n\u001b[32m    315\u001b[39m     base_request) \u001b[38;5;28;01mif\u001b[39;00m authenticate \u001b[38;5;28;01melse\u001b[39;00m base_request\n\u001b[32m--> \u001b[39m\u001b[32m317\u001b[39m json_response = \u001b[43mrequest_func\u001b[49m\u001b[43m(\u001b[49m\n\u001b[32m    318\u001b[39m \u001b[43m    \u001b[49m\u001b[43murl\u001b[49m\u001b[43m=\u001b[49m\u001b[43murl\u001b[49m\u001b[43m,\u001b[49m\n\u001b[32m    319\u001b[39m \u001b[43m    \u001b[49m\u001b[43mparams\u001b[49m\u001b[43m=\u001b[49m\u001b[43mparams\u001b[49m\u001b[43m,\u001b[49m\n\u001b[32m    320\u001b[39m \u001b[43m    \u001b[49m\u001b[43mheaders\u001b[49m\u001b[43m=\u001b[49m\u001b[43mheaders\u001b[49m\u001b[43m,\u001b[49m\n\u001b[32m    321\u001b[39m \u001b[43m    \u001b[49m\u001b[43m*\u001b[49m\u001b[43m*\u001b[49m\u001b[43mkwargs\u001b[49m\n\u001b[32m    322\u001b[39m \u001b[43m\u001b[49m\u001b[43m)\u001b[49m\n\u001b[32m    324\u001b[39m status_code = json_response[\u001b[33m'\u001b[39m\u001b[33mcode\u001b[39m\u001b[33m'\u001b[39m]\n\u001b[32m    326\u001b[39m \u001b[38;5;28;01mif\u001b[39;00m status_code >= \u001b[32m400\u001b[39m:\n",
      "\u001b[36mFile \u001b[39m\u001b[32m~/Documents/CatalyST/catalyst-ngd-wrappers-python/src/catalyst_ngd_wrappers/ngd_api_wrappers.py:219\u001b[39m, in \u001b[36moauth2_authentication.<locals>.wrapper\u001b[39m\u001b[34m(headers, params, **kwargs)\u001b[39m\n\u001b[32m    217\u001b[39m \u001b[38;5;28;01mif\u001b[39;00m access_token:\n\u001b[32m    218\u001b[39m     headers[\u001b[33m'\u001b[39m\u001b[33mAuthorization\u001b[39m\u001b[33m'\u001b[39m] = \u001b[33mf\u001b[39m\u001b[33m'\u001b[39m\u001b[33mBearer \u001b[39m\u001b[38;5;132;01m{\u001b[39;00maccess_token\u001b[38;5;132;01m}\u001b[39;00m\u001b[33m'\u001b[39m\n\u001b[32m--> \u001b[39m\u001b[32m219\u001b[39m     response = \u001b[43mrun_request\u001b[49m\u001b[43m(\u001b[49m\u001b[43mheaders\u001b[49m\u001b[43m)\u001b[49m\n\u001b[32m    220\u001b[39m     \u001b[38;5;28;01mif\u001b[39;00m response.get(\u001b[33m'\u001b[39m\u001b[33mcode\u001b[39m\u001b[33m'\u001b[39m, \u001b[32m0\u001b[39m) != \u001b[32m401\u001b[39m:\n\u001b[32m    221\u001b[39m         \u001b[38;5;28;01mreturn\u001b[39;00m response\n",
      "\u001b[36mFile \u001b[39m\u001b[32m~/Documents/CatalyST/catalyst-ngd-wrappers-python/src/catalyst_ngd_wrappers/ngd_api_wrappers.py:204\u001b[39m, in \u001b[36moauth2_authentication.<locals>.wrapper.<locals>.run_request\u001b[39m\u001b[34m(headers_)\u001b[39m\n\u001b[32m    202\u001b[39m \u001b[38;5;250m\u001b[39m\u001b[33;03m'''Runs the request with the given headers and returns the response.'''\u001b[39;00m\n\u001b[32m    203\u001b[39m \u001b[38;5;28;01mtry\u001b[39;00m:\n\u001b[32m--> \u001b[39m\u001b[32m204\u001b[39m     json_response = \u001b[43mfunc\u001b[49m\u001b[43m(\u001b[49m\n\u001b[32m    205\u001b[39m \u001b[43m        \u001b[49m\u001b[43mheaders\u001b[49m\u001b[43m=\u001b[49m\u001b[43mheaders_\u001b[49m\u001b[43m,\u001b[49m\n\u001b[32m    206\u001b[39m \u001b[43m        \u001b[49m\u001b[43mparams\u001b[49m\u001b[43m=\u001b[49m\u001b[43mparams\u001b[49m\u001b[43m,\u001b[49m\n\u001b[32m    207\u001b[39m \u001b[43m        \u001b[49m\u001b[43m*\u001b[49m\u001b[43m*\u001b[49m\u001b[43mkwargs\u001b[49m\n\u001b[32m    208\u001b[39m \u001b[43m    \u001b[49m\u001b[43m)\u001b[49m\n\u001b[32m    209\u001b[39m \u001b[38;5;28;01mexcept\u001b[39;00m JSONDecodeError \u001b[38;5;28;01mas\u001b[39;00m e:\n\u001b[32m    210\u001b[39m     \u001b[38;5;28;01mreturn\u001b[39;00m handle_decode_error(error=e)\n",
      "\u001b[36mFile \u001b[39m\u001b[32m~/Documents/CatalyST/catalyst-ngd-wrappers-python/src/catalyst_ngd_wrappers/ngd_api_wrappers.py:167\u001b[39m, in \u001b[36mbase_request\u001b[39m\u001b[34m(**kwargs)\u001b[39m\n\u001b[32m    165\u001b[39m \u001b[38;5;28;01mdef\u001b[39;00m\u001b[38;5;250m \u001b[39m\u001b[34mbase_request\u001b[39m(**kwargs):\n\u001b[32m    166\u001b[39m \u001b[38;5;250m    \u001b[39m\u001b[33;03m'''A basic wrapper around requests.get() to return a JSON response, with the response code added.'''\u001b[39;00m\n\u001b[32m--> \u001b[39m\u001b[32m167\u001b[39m     response = \u001b[43mr\u001b[49m\u001b[43m.\u001b[49m\u001b[43mget\u001b[49m\u001b[43m(\u001b[49m\n\u001b[32m    168\u001b[39m \u001b[43m        \u001b[49m\u001b[43mtimeout\u001b[49m\u001b[43m=\u001b[49m\u001b[43mUNIVERSAL_TIMEOUT\u001b[49m\u001b[43m,\u001b[49m\n\u001b[32m    169\u001b[39m \u001b[43m        \u001b[49m\u001b[43m*\u001b[49m\u001b[43m*\u001b[49m\u001b[43mkwargs\u001b[49m\n\u001b[32m    170\u001b[39m \u001b[43m    \u001b[49m\u001b[43m)\u001b[49m\n\u001b[32m    171\u001b[39m     json_response = response.json()\n\u001b[32m    172\u001b[39m     json_response[\u001b[33m'\u001b[39m\u001b[33mcode\u001b[39m\u001b[33m'\u001b[39m] = response.status_code\n",
      "\u001b[36mFile \u001b[39m\u001b[32m~/Documents/CatalyST/catalyst-ngd-wrappers-python/.venv/lib/python3.12/site-packages/requests/api.py:73\u001b[39m, in \u001b[36mget\u001b[39m\u001b[34m(url, params, **kwargs)\u001b[39m\n\u001b[32m     62\u001b[39m \u001b[38;5;28;01mdef\u001b[39;00m\u001b[38;5;250m \u001b[39m\u001b[34mget\u001b[39m(url, params=\u001b[38;5;28;01mNone\u001b[39;00m, **kwargs):\n\u001b[32m     63\u001b[39m \u001b[38;5;250m    \u001b[39m\u001b[33mr\u001b[39m\u001b[33;03m\"\"\"Sends a GET request.\u001b[39;00m\n\u001b[32m     64\u001b[39m \n\u001b[32m     65\u001b[39m \u001b[33;03m    :param url: URL for the new :class:`Request` object.\u001b[39;00m\n\u001b[32m   (...)\u001b[39m\u001b[32m     70\u001b[39m \u001b[33;03m    :rtype: requests.Response\u001b[39;00m\n\u001b[32m     71\u001b[39m \u001b[33;03m    \"\"\"\u001b[39;00m\n\u001b[32m---> \u001b[39m\u001b[32m73\u001b[39m     \u001b[38;5;28;01mreturn\u001b[39;00m \u001b[43mrequest\u001b[49m\u001b[43m(\u001b[49m\u001b[33;43m\"\u001b[39;49m\u001b[33;43mget\u001b[39;49m\u001b[33;43m\"\u001b[39;49m\u001b[43m,\u001b[49m\u001b[43m \u001b[49m\u001b[43murl\u001b[49m\u001b[43m,\u001b[49m\u001b[43m \u001b[49m\u001b[43mparams\u001b[49m\u001b[43m=\u001b[49m\u001b[43mparams\u001b[49m\u001b[43m,\u001b[49m\u001b[43m \u001b[49m\u001b[43m*\u001b[49m\u001b[43m*\u001b[49m\u001b[43mkwargs\u001b[49m\u001b[43m)\u001b[49m\n",
      "\u001b[36mFile \u001b[39m\u001b[32m~/Documents/CatalyST/catalyst-ngd-wrappers-python/.venv/lib/python3.12/site-packages/requests/api.py:59\u001b[39m, in \u001b[36mrequest\u001b[39m\u001b[34m(method, url, **kwargs)\u001b[39m\n\u001b[32m     55\u001b[39m \u001b[38;5;66;03m# By using the 'with' statement we are sure the session is closed, thus we\u001b[39;00m\n\u001b[32m     56\u001b[39m \u001b[38;5;66;03m# avoid leaving sockets open which can trigger a ResourceWarning in some\u001b[39;00m\n\u001b[32m     57\u001b[39m \u001b[38;5;66;03m# cases, and look like a memory leak in others.\u001b[39;00m\n\u001b[32m     58\u001b[39m \u001b[38;5;28;01mwith\u001b[39;00m sessions.Session() \u001b[38;5;28;01mas\u001b[39;00m session:\n\u001b[32m---> \u001b[39m\u001b[32m59\u001b[39m     \u001b[38;5;28;01mreturn\u001b[39;00m \u001b[43msession\u001b[49m\u001b[43m.\u001b[49m\u001b[43mrequest\u001b[49m\u001b[43m(\u001b[49m\u001b[43mmethod\u001b[49m\u001b[43m=\u001b[49m\u001b[43mmethod\u001b[49m\u001b[43m,\u001b[49m\u001b[43m \u001b[49m\u001b[43murl\u001b[49m\u001b[43m=\u001b[49m\u001b[43murl\u001b[49m\u001b[43m,\u001b[49m\u001b[43m \u001b[49m\u001b[43m*\u001b[49m\u001b[43m*\u001b[49m\u001b[43mkwargs\u001b[49m\u001b[43m)\u001b[49m\n",
      "\u001b[31mTypeError\u001b[39m: Session.request() got an unexpected keyword argument 'access_token'"
     ]
    }
   ],
   "source": [
    "KEY = 'YM57GQW4eAaABqG2Vz3fhALu7Knu8f4D'\n",
    "wkt = \"\"\"\n",
    "GEOMETRYCOLLECTION(\n",
    "    MULTIPOLYGON(\n",
    "        ((558288 104518, 558288 104528, 558298 104528, 558298 104518, 558288 104518)),\n",
    "        ((558388 104318, 558388 104328, 558398 104328, 558398 104318, 558388 104318))\n",
    "    ),\n",
    "    LINESTRING(\n",
    "        558288 104518, 558298 104528, 558398 104328, 558398 104318\n",
    "    )\n",
    ")\"\"\"\n",
    "items(\n",
    "    collection = 'bld-fts-building',\n",
    "    params = {\n",
    "        #'filter-crs': 27700,\n",
    "        'filter': \"constructionmaterial IN ('Mixed (Masonry And Metal)','Brick Or Block Or Stone')\",\n",
    "        'crs': 27700,\n",
    "        'datetime': '2025-03-13T00:00:00Z/..'\n",
    "    },\n",
    "    filter_params = {\n",
    "        'description':'Gas Distribution Or Storage Facility',\n",
    "        'buildinguse':'Utility Or Environmental Protection',\n",
    "        'constructionmaterial':'Brick Or Block Or Stone'\n",
    "    },\n",
    "    use_latest_collection = True,\n",
    "        headers = {\n",
    "        'erroneous-header': 'should-be-ignored'\n",
    "    },\n",
    "    access_token = 'hgj'\n",
    ")"
   ]
  },
  {
   "cell_type": "code",
   "execution_count": 5,
   "id": "5e74a59e",
   "metadata": {},
   "outputs": [],
   "source": [
    "full_geom = from_wkt(wkt) if isinstance(wkt, str) else wkt"
   ]
  },
  {
   "cell_type": "code",
   "execution_count": 8,
   "id": "dc626aa6",
   "metadata": {},
   "outputs": [
    {
     "data": {
      "text/plain": [
       "tuple"
      ]
     },
     "execution_count": 8,
     "metadata": {},
     "output_type": "execute_result"
    }
   ],
   "source": [
    "type(wkt)"
   ]
  },
  {
   "cell_type": "code",
   "execution_count": null,
   "id": "eb1ab499",
   "metadata": {},
   "outputs": [],
   "source": []
  }
 ],
 "metadata": {
  "kernelspec": {
   "display_name": ".venv",
   "language": "python",
   "name": "python3"
  },
  "language_info": {
   "codemirror_mode": {
    "name": "ipython",
    "version": 3
   },
   "file_extension": ".py",
   "mimetype": "text/x-python",
   "name": "python",
   "nbconvert_exporter": "python",
   "pygments_lexer": "ipython3",
   "version": "3.12.11"
  }
 },
 "nbformat": 4,
 "nbformat_minor": 5
}
